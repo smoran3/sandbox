{
 "cells": [
  {
   "cell_type": "code",
   "execution_count": 1,
   "metadata": {},
   "outputs": [],
   "source": [
    "import VisumPy.helpers as h\n",
    "import pandas as pd\n"
   ]
  },
  {
   "cell_type": "code",
   "execution_count": 2,
   "metadata": {},
   "outputs": [],
   "source": [
    "Visum = h.CreateVisum(18)"
   ]
  },
  {
   "cell_type": "code",
   "execution_count": 3,
   "metadata": {},
   "outputs": [],
   "source": [
    "#This version file is FOR TESTING ONLY - update to new model version when ready\n",
    "versionFilePath = \"D:/dvrpc_shared/BikeLTS/Phase3/NetworkUpdates/TIM23_2020_forAnalysis_072920.ver\"\n",
    "Visum.LoadVersion(versionFilePath)"
   ]
  },
  {
   "cell_type": "code",
   "execution_count": 4,
   "metadata": {},
   "outputs": [],
   "source": [
    "#lookup table for lane, speed\n",
    "#second residential line modified to include speed up to 65 to capture everything\n",
    "road_index = [\n",
    "    [(0, 0),   (0,  999)],\n",
    "    [(-2, -2), (0,  25 )], \n",
    "    [(-2, -2), (26, 36 )], \n",
    "    [(1, 3),   (0,  25 )],\n",
    "    [(4, 5),   (0,  25 )],\n",
    "    [(1, 3),   (26, 34 )],\n",
    "    [(6, 999), (0,  25 )],\n",
    "    [(4, 5),   (26, 34 )],\n",
    "    [(6, 999), (26, 34 )],\n",
    "    [(1, 3),   (35, 999)],\n",
    "    [(4, 5),   (35, 999)],\n",
    "    [(6, 999), (35, 999)],\n",
    "]\n",
    "\n",
    "residential_index = [\n",
    "    [(0, 0),   (0,  999)],\n",
    "    [(1, 2),   (0,  25 )], \n",
    "    [(1, 2),   (26, 65 )], \n",
    "]\n",
    "\n",
    "\n",
    "#create lookup for bike facility type\n",
    "#numbers re-ordered to act as crosswalk between model bike fac codes and those in the reduction factor table\n",
    "bikeFac_index = [0, 5, 1, 2, 3, 4, 6, 9]\n",
    "\n",
    "#from LTS table\n",
    "#row 0 is filler for roads with no lanes\n",
    "#column 7 is filler for roads with bike fac  =  (opposite direction of a one way street)\n",
    "StressLevels = [\n",
    "    [-1, -1, -1, -1, -1, -1, -1, -1],\n",
    "    [ 1,  1,  1,  1,  1,  1,  1, -2],\n",
    "    [ 2,  2,  2,  1,  1,  1,  1, -2],\n",
    "    [ 2,  2,  2,  1,  1,  1,  1, -2],\n",
    "    [ 3,  3,  3,  2,  2,  1,  1, -2],\n",
    "    [ 3,  3,  3,  2,  2,  1,  1, -2],\n",
    "    [ 4,  4,  4,  3,  2,  2,  1, -2],\n",
    "    [ 4,  4,  4,  3,  2,  2,  1, -2],\n",
    "    [ 4,  4,  4,  3,  2,  2,  1, -2],\n",
    "    [ 4,  4,  4,  3,  3,  2,  1, -2],\n",
    "    [ 4,  4,  4,  3,  3,  2,  1, -2],\n",
    "    [ 4,  4,  4,  4,  3,  3,  1, -2],\n",
    "]"
   ]
  },
  {
   "cell_type": "code",
   "execution_count": 5,
   "metadata": {},
   "outputs": [],
   "source": [
    "#function to identify the row of Figure 1 in paper that the record falls in based on the total number of lanes and the speed\n",
    "def findRowIndex(lanes, spd, link_type):\n",
    "    if link_type in (72, 79) and lanes in (1, 2):\n",
    "        for i, ((minlanes,maxlanes), (lowerspd, upperspd)) in enumerate(residential_index):\n",
    "            if (minlanes <= lanes and lanes <= maxlanes) and (lowerspd <= spd and spd <= upperspd):\n",
    "                return i\n",
    "    else:\n",
    "        for i, ((minlanes,maxlanes), (lowerspd, upperspd)) in enumerate(road_index):\n",
    "            if (minlanes <= lanes and lanes <= maxlanes) and (lowerspd <= spd and spd <= upperspd):\n",
    "                return i"
   ]
  },
  {
   "cell_type": "code",
   "execution_count": 6,
   "metadata": {},
   "outputs": [],
   "source": [
    "#function to idenfity the colum of Figure 1 based on the bicycle facility\n",
    "def bikeFacLookup(fac_code):\n",
    "    for i, (facility) in enumerate(bikeFac_index):\n",
    "        if facility == fac_code:\n",
    "            return i"
   ]
  },
  {
   "cell_type": "code",
   "execution_count": 7,
   "metadata": {},
   "outputs": [],
   "source": [
    "def make_attribute_list(att_name):\n",
    "    #get attributes from Visum\n",
    "    map = h.GetMulti(Visum.Net.Links, att_name)\n",
    "    #convert map object type to list\n",
    "    att_name = list(map)\n",
    "    return att_name\n",
    "    \n",
    "FromNode = make_attribute_list(\"FromNodeNo\")\n",
    "ToNode   = make_attribute_list(\"ToNodeNo\")\n",
    "Length   = make_attribute_list(\"Length\")\n",
    "TotLanes = make_attribute_list(\"TotNumLanes\") #this may need to be calculated first or on the fly with a new version\n",
    "BikeFac  = make_attribute_list(\"Bike_Facility\") #this may have a dif name\n",
    "Speed    = make_attribute_list(\"SPEED_LTS\") #this will need a dif name\n",
    "LinkType = make_attribute_list(\"TypeNo\")\n",
    "WKTPoly  = make_attribute_list(\"WKTPoly\")\n",
    "Slope    = make_attribute_list(\"SLOPE_PERC\") #check name of this"
   ]
  },
  {
   "cell_type": "code",
   "execution_count": 8,
   "metadata": {},
   "outputs": [],
   "source": [
    "LinkStress = [0]* len(FromNode)\n",
    "\n",
    "for i in range(0, len(FromNode)):\n",
    "\tx = bikeFacLookup(BikeFac[i])\n",
    "\ty = findRowIndex(TotLanes[i], Speed[i], LinkType[i])\n",
    "\tLinkStress[i] = StressLevels[y][x]"
   ]
  },
  {
   "cell_type": "code",
   "execution_count": 10,
   "metadata": {},
   "outputs": [
    {
     "ename": "OSError",
     "evalue": "Could not find lib geos_c.dll or load any of its variants [].",
     "output_type": "error",
     "traceback": [
      "\u001b[1;31m---------------------------------------------------------------------------\u001b[0m",
      "\u001b[1;31mOSError\u001b[0m                                   Traceback (most recent call last)",
      "Cell \u001b[1;32mIn[10], line 1\u001b[0m\n\u001b[1;32m----> 1\u001b[0m \u001b[39mimport\u001b[39;00m \u001b[39mgeopandas\u001b[39;00m \u001b[39mas\u001b[39;00m \u001b[39mgpd\u001b[39;00m\n",
      "File \u001b[1;32mc:\\USERS\\SMORAN\\ANACONDA3\\ENVS\\BIKE_NETWORK_UPDATE\\lib\\site-packages\\geopandas\\__init__.py:1\u001b[0m\n\u001b[1;32m----> 1\u001b[0m \u001b[39mfrom\u001b[39;00m \u001b[39mgeopandas\u001b[39;00m\u001b[39m.\u001b[39;00m\u001b[39m_config\u001b[39;00m \u001b[39mimport\u001b[39;00m options  \u001b[39m# noqa\u001b[39;00m\n\u001b[0;32m      3\u001b[0m \u001b[39mfrom\u001b[39;00m \u001b[39mgeopandas\u001b[39;00m\u001b[39m.\u001b[39;00m\u001b[39mgeoseries\u001b[39;00m \u001b[39mimport\u001b[39;00m GeoSeries  \u001b[39m# noqa\u001b[39;00m\n\u001b[0;32m      4\u001b[0m \u001b[39mfrom\u001b[39;00m \u001b[39mgeopandas\u001b[39;00m\u001b[39m.\u001b[39;00m\u001b[39mgeodataframe\u001b[39;00m \u001b[39mimport\u001b[39;00m GeoDataFrame  \u001b[39m# noqa\u001b[39;00m\n",
      "File \u001b[1;32mc:\\USERS\\SMORAN\\ANACONDA3\\ENVS\\BIKE_NETWORK_UPDATE\\lib\\site-packages\\geopandas\\_config.py:109\u001b[0m\n\u001b[0;32m    102\u001b[0m     \u001b[39mimport\u001b[39;00m \u001b[39mgeopandas\u001b[39;00m\u001b[39m.\u001b[39;00m\u001b[39m_compat\u001b[39;00m \u001b[39mas\u001b[39;00m \u001b[39mcompat\u001b[39;00m\n\u001b[0;32m    104\u001b[0m     compat\u001b[39m.\u001b[39mset_use_pygeos(value)\n\u001b[0;32m    107\u001b[0m use_pygeos \u001b[39m=\u001b[39m Option(\n\u001b[0;32m    108\u001b[0m     key\u001b[39m=\u001b[39m\u001b[39m\"\u001b[39m\u001b[39muse_pygeos\u001b[39m\u001b[39m\"\u001b[39m,\n\u001b[1;32m--> 109\u001b[0m     default_value\u001b[39m=\u001b[39m_default_use_pygeos(),\n\u001b[0;32m    110\u001b[0m     doc\u001b[39m=\u001b[39m(\n\u001b[0;32m    111\u001b[0m         \u001b[39m\"\u001b[39m\u001b[39mWhether to use PyGEOS to speed up spatial operations. The default is True \u001b[39m\u001b[39m\"\u001b[39m\n\u001b[0;32m    112\u001b[0m         \u001b[39m\"\u001b[39m\u001b[39mif PyGEOS is installed, and follows the USE_PYGEOS environment variable \u001b[39m\u001b[39m\"\u001b[39m\n\u001b[0;32m    113\u001b[0m         \u001b[39m\"\u001b[39m\u001b[39mif set.\u001b[39m\u001b[39m\"\u001b[39m\n\u001b[0;32m    114\u001b[0m     ),\n\u001b[0;32m    115\u001b[0m     validator\u001b[39m=\u001b[39m_validate_bool,\n\u001b[0;32m    116\u001b[0m     callback\u001b[39m=\u001b[39m_callback_use_pygeos,\n\u001b[0;32m    117\u001b[0m )\n\u001b[0;32m    120\u001b[0m options \u001b[39m=\u001b[39m Options({\u001b[39m\"\u001b[39m\u001b[39mdisplay_precision\u001b[39m\u001b[39m\"\u001b[39m: display_precision, \u001b[39m\"\u001b[39m\u001b[39muse_pygeos\u001b[39m\u001b[39m\"\u001b[39m: use_pygeos})\n",
      "File \u001b[1;32mc:\\USERS\\SMORAN\\ANACONDA3\\ENVS\\BIKE_NETWORK_UPDATE\\lib\\site-packages\\geopandas\\_config.py:95\u001b[0m, in \u001b[0;36m_default_use_pygeos\u001b[1;34m()\u001b[0m\n\u001b[0;32m     94\u001b[0m \u001b[39mdef\u001b[39;00m \u001b[39m_default_use_pygeos\u001b[39m():\n\u001b[1;32m---> 95\u001b[0m     \u001b[39mimport\u001b[39;00m \u001b[39mgeopandas\u001b[39;00m\u001b[39m.\u001b[39;00m\u001b[39m_compat\u001b[39;00m \u001b[39mas\u001b[39;00m \u001b[39mcompat\u001b[39;00m\n\u001b[0;32m     97\u001b[0m     \u001b[39mreturn\u001b[39;00m compat\u001b[39m.\u001b[39mUSE_PYGEOS\n",
      "File \u001b[1;32mc:\\USERS\\SMORAN\\ANACONDA3\\ENVS\\BIKE_NETWORK_UPDATE\\lib\\site-packages\\geopandas\\_compat.py:11\u001b[0m\n\u001b[0;32m      9\u001b[0m \u001b[39mimport\u001b[39;00m \u001b[39mpyproj\u001b[39;00m\n\u001b[0;32m     10\u001b[0m \u001b[39mimport\u001b[39;00m \u001b[39mshapely\u001b[39;00m\n\u001b[1;32m---> 11\u001b[0m \u001b[39mimport\u001b[39;00m \u001b[39mshapely\u001b[39;00m\u001b[39m.\u001b[39;00m\u001b[39mgeos\u001b[39;00m\n\u001b[0;32m     14\u001b[0m \u001b[39m# -----------------------------------------------------------------------------\u001b[39;00m\n\u001b[0;32m     15\u001b[0m \u001b[39m# pandas compat\u001b[39;00m\n\u001b[0;32m     16\u001b[0m \u001b[39m# -----------------------------------------------------------------------------\u001b[39;00m\n\u001b[0;32m     18\u001b[0m PANDAS_GE_11 \u001b[39m=\u001b[39m Version(pd\u001b[39m.\u001b[39m__version__) \u001b[39m>\u001b[39m\u001b[39m=\u001b[39m Version(\u001b[39m\"\u001b[39m\u001b[39m1.1.0\u001b[39m\u001b[39m\"\u001b[39m)\n",
      "File \u001b[1;32mc:\\USERS\\SMORAN\\ANACONDA3\\ENVS\\BIKE_NETWORK_UPDATE\\lib\\site-packages\\shapely\\geos.py:164\u001b[0m\n\u001b[0;32m    161\u001b[0m     original_path \u001b[39m=\u001b[39m os\u001b[39m.\u001b[39menviron[\u001b[39m'\u001b[39m\u001b[39mPATH\u001b[39m\u001b[39m'\u001b[39m]\n\u001b[0;32m    162\u001b[0m     os\u001b[39m.\u001b[39menviron[\u001b[39m'\u001b[39m\u001b[39mPATH\u001b[39m\u001b[39m'\u001b[39m] \u001b[39m=\u001b[39m \u001b[39m\"\u001b[39m\u001b[39m%s\u001b[39;00m\u001b[39m;\u001b[39m\u001b[39m%s\u001b[39;00m\u001b[39m;\u001b[39m\u001b[39m%s\u001b[39;00m\u001b[39m\"\u001b[39m \u001b[39m%\u001b[39m \\\n\u001b[0;32m    163\u001b[0m         (egg_dlls, wininst_dlls, original_path)\n\u001b[1;32m--> 164\u001b[0m     _lgeos \u001b[39m=\u001b[39m load_dll(\u001b[39m\"\u001b[39;49m\u001b[39mgeos_c.dll\u001b[39;49m\u001b[39m\"\u001b[39;49m)\n\u001b[0;32m    165\u001b[0m \u001b[39mexcept\u001b[39;00m (\u001b[39mImportError\u001b[39;00m, \u001b[39mWindowsError\u001b[39;00m, \u001b[39mOSError\u001b[39;00m):\n\u001b[0;32m    166\u001b[0m     \u001b[39mraise\u001b[39;00m\n",
      "File \u001b[1;32mc:\\USERS\\SMORAN\\ANACONDA3\\ENVS\\BIKE_NETWORK_UPDATE\\lib\\site-packages\\shapely\\geos.py:60\u001b[0m, in \u001b[0;36mload_dll\u001b[1;34m(libname, fallbacks, mode)\u001b[0m\n\u001b[0;32m     57\u001b[0m     \u001b[39mreturn\u001b[39;00m dll\n\u001b[0;32m     58\u001b[0m \u001b[39melse\u001b[39;00m:\n\u001b[0;32m     59\u001b[0m     \u001b[39m# No shared library was loaded. Raise OSError.\u001b[39;00m\n\u001b[1;32m---> 60\u001b[0m     \u001b[39mraise\u001b[39;00m \u001b[39mOSError\u001b[39;00m(\n\u001b[0;32m     61\u001b[0m         \u001b[39m\"\u001b[39m\u001b[39mCould not find lib \u001b[39m\u001b[39m{}\u001b[39;00m\u001b[39m or load any of its variants \u001b[39m\u001b[39m{}\u001b[39;00m\u001b[39m.\u001b[39m\u001b[39m\"\u001b[39m\u001b[39m.\u001b[39mformat(\n\u001b[0;32m     62\u001b[0m             libname, fallbacks \u001b[39mor\u001b[39;00m []))\n",
      "\u001b[1;31mOSError\u001b[0m: Could not find lib geos_c.dll or load any of its variants []."
     ]
    }
   ],
   "source": [
    "import geopandas as gpd"
   ]
  },
  {
   "cell_type": "code",
   "execution_count": 32,
   "metadata": {},
   "outputs": [
    {
     "ename": "AttributeError",
     "evalue": "'list' object has no attribute 'crs'",
     "output_type": "error",
     "traceback": [
      "\u001b[1;31m---------------------------------------------------------------------------\u001b[0m",
      "\u001b[1;31mAttributeError\u001b[0m                            Traceback (most recent call last)",
      "Cell \u001b[1;32mIn[32], line 1\u001b[0m\n\u001b[1;32m----> 1\u001b[0m WKTPoly\u001b[39m.\u001b[39;49mcrs\n",
      "\u001b[1;31mAttributeError\u001b[0m: 'list' object has no attribute 'crs'"
     ]
    }
   ],
   "source": [
    "WKTPoly.crs"
   ]
  },
  {
   "cell_type": "code",
   "execution_count": 31,
   "metadata": {},
   "outputs": [
    {
     "ename": "NameError",
     "evalue": "name 'gpd' is not defined",
     "output_type": "error",
     "traceback": [
      "\u001b[1;31m---------------------------------------------------------------------------\u001b[0m",
      "\u001b[1;31mNameError\u001b[0m                                 Traceback (most recent call last)",
      "Cell \u001b[1;32mIn[31], line 15\u001b[0m\n\u001b[0;32m      1\u001b[0m \u001b[39m#combine attributes into dataframe\u001b[39;00m\n\u001b[0;32m      2\u001b[0m df \u001b[39m=\u001b[39m pd\u001b[39m.\u001b[39mDataFrame(\n\u001b[0;32m      3\u001b[0m     {\u001b[39m'\u001b[39m\u001b[39mFromNode\u001b[39m\u001b[39m'\u001b[39m: FromNode,\n\u001b[0;32m      4\u001b[0m     \u001b[39m'\u001b[39m\u001b[39mToNode\u001b[39m\u001b[39m'\u001b[39m   : ToNode,\n\u001b[1;32m   (...)\u001b[0m\n\u001b[0;32m     12\u001b[0m     }\n\u001b[0;32m     13\u001b[0m )\n\u001b[1;32m---> 15\u001b[0m gdf \u001b[39m=\u001b[39m gpd\u001b[39m.\u001b[39mGeoDataFrame(df, geometry \u001b[39m=\u001b[39m WKTPoly)\n\u001b[0;32m     18\u001b[0m \u001b[39m#import into DB\u001b[39;00m\n",
      "\u001b[1;31mNameError\u001b[0m: name 'gpd' is not defined"
     ]
    }
   ],
   "source": [
    "#combine attributes into dataframe\n",
    "df = pd.DataFrame(\n",
    "    {'FromNode': FromNode,\n",
    "    'ToNode'   : ToNode,\n",
    "    'Length'   : Length,\n",
    "    'TotLanes' : TotLanes,\n",
    "    'BikeFac'  : BikeFac,\n",
    "    'Speed'    : Speed,\n",
    "    'LinkType' : LinkType,\n",
    "    'Slope'    : Slope,\n",
    "    'Geom'     : WKTPoly\n",
    "    }\n",
    ")\n",
    "gs = gpd.GeoSeries.from_wkt(df['Geom'])\n",
    "gdf = gpd.GeoDataFrame(df, geometry = gs)\n",
    "\n",
    "\n",
    "#import into DB"
   ]
  },
  {
   "cell_type": "code",
   "execution_count": null,
   "metadata": {},
   "outputs": [],
   "source": []
  }
 ],
 "metadata": {
  "kernelspec": {
   "display_name": "Python 3",
   "language": "python",
   "name": "python3"
  },
  "language_info": {
   "codemirror_mode": {
    "name": "ipython",
    "version": 3
   },
   "file_extension": ".py",
   "mimetype": "text/x-python",
   "name": "python",
   "nbconvert_exporter": "python",
   "pygments_lexer": "ipython3",
   "version": "3.9.15"
  },
  "orig_nbformat": 4,
  "vscode": {
   "interpreter": {
    "hash": "d01e028293dc2a06f20758d5ee09e39b3b696a5e2d6de6e2bce786862f9ed9ea"
   }
  }
 },
 "nbformat": 4,
 "nbformat_minor": 2
}
